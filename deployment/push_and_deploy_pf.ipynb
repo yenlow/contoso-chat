{
 "cells": [
  {
   "cell_type": "markdown",
   "metadata": {},
   "source": [
    "# 1. Push the prompt flow to AI Studio"
   ]
  },
  {
   "cell_type": "code",
   "execution_count": 1,
   "metadata": {},
   "outputs": [],
   "source": [
    "# import required libraries\n",
    "import os\n",
    "from azure.ai.ml import MLClient\n",
    "from azure.ai.ml.entities import WorkspaceConnection\n",
    "# Import required libraries\n",
    "from azure.identity import DefaultAzureCredential, InteractiveBrowserCredential\n",
    "\n",
    "# Import required libraries\n",
    "from azure.identity import DefaultAzureCredential, InteractiveBrowserCredential\n",
    "\n",
    "try:\n",
    "    credential = DefaultAzureCredential()\n",
    "    # Check if given credential can get token successfully.\n",
    "    credential.get_token(\"https://management.azure.com/.default\")\n",
    "except Exception as ex:\n",
    "    # Fall back to InteractiveBrowserCredential in case DefaultAzureCredential not work\n",
    "    credential = InteractiveBrowserCredential()"
   ]
  },
  {
   "cell_type": "code",
   "execution_count": 2,
   "metadata": {},
   "outputs": [
    {
     "name": "stderr",
     "output_type": "stream",
     "text": [
      "Found the config file in: ../config.json\n"
     ]
    }
   ],
   "source": [
    "config_path = \"../config.json\"\n",
    "from promptflow.azure import PFClient\n",
    "pf_azure_client = PFClient.from_config(credential=credential, path=config_path)"
   ]
  },
  {
   "cell_type": "code",
   "execution_count": 3,
   "metadata": {},
   "outputs": [],
   "source": [
    "# Create unique name for pf name with date time\n",
    "import datetime\n",
    "now = datetime.datetime.now()\n",
    "pf_name = \"contoso-chat-{}\".format(now.strftime(\"%Y-%m-%d-%H-%M-%S\"))\n"
   ]
  },
  {
   "cell_type": "code",
   "execution_count": 4,
   "metadata": {},
   "outputs": [],
   "source": [
    "# Runtime no longer needed (not in flow schema)\n",
    "# load flow\n",
    "flow = \"../contoso-chat/\""
   ]
  },
  {
   "cell_type": "code",
   "execution_count": 5,
   "metadata": {},
   "outputs": [
    {
     "name": "stdout",
     "output_type": "stream",
     "text": [
      "Flow created successfully:\n",
      "{\n",
      "    \"name\": \"22d09aaa-4c82-4541-a721-77a4d12d9497\",\n",
      "    \"type\": \"standard\",\n",
      "    \"path\": \"Users/User1-36881778/promptflow/contoso-chat-2024-01-11-21-24-03/flow.dag.yaml\",\n",
      "    \"code\": \"azureml://locations/swedencentral/workspaces/9e083a5b-0e63-44ca-9d0e-fc0d4f0c2da4/flows/22d09aaa-4c82-4541-a721-77a4d12d9497\",\n",
      "    \"display_name\": \"contoso-chat-2024-01-11-21-24-03\",\n",
      "    \"owner\": {\n",
      "        \"user_object_id\": \"1981e272-54c6-4345-a077-64f3db16c4a8\",\n",
      "        \"user_tenant_id\": \"d2f64b03-2cce-4f20-900e-b81248ebc1a8\",\n",
      "        \"user_name\": \"User1-36881778\"\n",
      "    },\n",
      "    \"is_archived\": false,\n",
      "    \"created_date\": \"2024-01-11 21:24:16.532672+00:00\",\n",
      "    \"flow_portal_url\": \"https://ai.azure.com/projectflows/22d09aaa-4c82-4541-a721-77a4d12d9497/9e083a5b-0e63-44ca-9d0e-fc0d4f0c2da4/details/Flow?wsid=/subscriptions/9cc85ebc-ba00-4394-9f22-9dbb99e76655/resourcegroups/rg-contosochatai/providers/Microsoft.MachineLearningServices/workspaces/contoso-chat-aiproj\"\n",
      "}\n",
      "Creating prompt flow <promptflow.azure._entities._flow.Flow object at 0x7fc2a164b290>\n"
     ]
    }
   ],
   "source": [
    "contoso_chat_flow = pf_azure_client.flows.create_or_update(\n",
    "    flow=flow,\n",
    "    display_name=pf_name)\n",
    "print(\"Creating prompt flow\", contoso_chat_flow)"
   ]
  },
  {
   "cell_type": "markdown",
   "metadata": {},
   "source": [
    "# 2. Navigate to AI Studio to Test and Deploy the Prompt flow\n",
    "\n",
    "Follow the instructions here to [Deploy with AI Studio](https://learn.microsoft.com/en-us/azure/ai-studio/how-to/flow-deploy?tabs=azure-studio)"
   ]
  }
 ],
 "metadata": {
  "kernelspec": {
   "display_name": "Python 3",
   "language": "python",
   "name": "python3"
  },
  "language_info": {
   "codemirror_mode": {
    "name": "ipython",
    "version": 3
   },
   "file_extension": ".py",
   "mimetype": "text/x-python",
   "name": "python",
   "nbconvert_exporter": "python",
   "pygments_lexer": "ipython3",
   "version": "3.11.7"
  }
 },
 "nbformat": 4,
 "nbformat_minor": 2
}
