{
 "cells": [
  {
   "cell_type": "markdown",
   "metadata": {},
   "source": [
    "# Local Evaluation - Groundedness\n",
    "\n",
    "After you have setup and configured the prompt flow, its time to evaluation its performance. Here we can use the prompt flow SDK to test different questions and see how the prompt flow performs using the evaluation prompt flows provided."
   ]
  },
  {
   "cell_type": "code",
   "execution_count": 1,
   "metadata": {},
   "outputs": [
    {
     "data": {
      "text/plain": [
       "True"
      ]
     },
     "execution_count": 1,
     "metadata": {},
     "output_type": "execute_result"
    }
   ],
   "source": [
    "from promptflow import PFClient\n",
    "pf_client = PFClient()\n",
    "\n",
    "from dotenv import load_dotenv\n",
    "\n",
    "from pathlib import Path\n",
    "load_dotenv(Path(\"../local.env\"))"
   ]
  },
  {
   "cell_type": "code",
   "execution_count": 2,
   "metadata": {},
   "outputs": [
    {
     "name": "stderr",
     "output_type": "stream",
     "text": [
      "[2024-01-11 21:22:58,290][promptflow._sdk.entities._connection][WARNING] - Please use connection.secrets[key] to access secrets.\n"
     ]
    },
    {
     "name": "stdout",
     "output_type": "stream",
     "text": [
      "2024-01-11 21:22:58 +0000   29173 execution.flow     INFO     Start executing nodes in thread pool mode.\n",
      "2024-01-11 21:22:58 +0000   29173 execution.flow     INFO     Start to run 5 nodes with concurrency level 16.\n",
      "2024-01-11 21:22:58 +0000   29173 execution.flow     INFO     Executing node question_embedding. node run id: 63be177c-0801-4ba5-bbbf-90cf6f184011_question_embedding_0\n",
      "2024-01-11 21:22:58 +0000   29173 execution.flow     INFO     Executing node customer_lookup. node run id: 63be177c-0801-4ba5-bbbf-90cf6f184011_customer_lookup_0\n",
      "2024-01-11 21:22:59 +0000   29173 execution.flow     INFO     Node question_embedding completes.\n",
      "2024-01-11 21:22:59 +0000   29173 execution.flow     INFO     Executing node retrieve_documentation. node run id: 63be177c-0801-4ba5-bbbf-90cf6f184011_retrieve_documentation_0\n",
      "2024-01-11 21:22:59 +0000   29173 execution.flow     INFO     Node customer_lookup completes.\n",
      "2024-01-11 21:23:00 +0000   29173 execution.flow     INFO     Node retrieve_documentation completes.\n",
      "2024-01-11 21:23:00 +0000   29173 execution.flow     INFO     Executing node customer_prompt. node run id: 63be177c-0801-4ba5-bbbf-90cf6f184011_customer_prompt_0\n",
      "2024-01-11 21:23:00 +0000   29173 execution.flow     INFO     Node customer_prompt completes.\n",
      "2024-01-11 21:23:00 +0000   29173 execution.flow     INFO     Executing node llm_response. node run id: 63be177c-0801-4ba5-bbbf-90cf6f184011_llm_response_0\n",
      "2024-01-11 21:23:01 +0000   29173 execution.flow     WARNING  Output of llm_response is not json serializable, use str to store it.\n",
      "2024-01-11 21:23:01 +0000   29173 execution.flow     INFO     Node llm_response completes.\n"
     ]
    }
   ],
   "source": [
    "# Add a question to test the base prompt flow.\n",
    "question = \"Can you tell me about your jackets?\"\n",
    "customerId = \"4\"\n",
    "output = pf_client.test(\n",
    "    flow=\"../contoso-chat\", # Path to the flow directory\n",
    "    inputs={ # Inputs to the flow\n",
    "        \"chat_history\": [],\n",
    "        \"question\": question,\n",
    "        \"customerId\": customerId,\n",
    "    },\n",
    ")\n",
    "\n",
    "output[\"answer\"] = \"\".join(list(output[\"answer\"]))"
   ]
  },
  {
   "cell_type": "code",
   "execution_count": 3,
   "metadata": {},
   "outputs": [
    {
     "data": {
      "text/plain": [
       "{'answer': 'Of course, Sarah Lee! Let me tell you about our jackets. 😄\\n\\nWe have two amazing jackets available at Contoso Outdoors:\\n\\n1. Summit Breeze Jacket: 🏔️\\n   - Lightweight and perfect for outdoor adventures.\\n   - Trail-ready, windproof design with water-resistant fabric.\\n   - Breathable and comfortable for any activity.\\n   - Features adjustable cuffs, zippered pockets, and reflective accents.\\n   - ⭐ Recommended with the CozyNights Sleeping Bag for a cozy camping combo! ⛺\\n\\n2. RainGuard Hiking Jacket: ☔\\n   - Ultimate solution for weatherproof comfort.\\n   - Waterproof and breathable fabric for a dry and comfortable experience.\\n   - Rugged construction and adjustable hood for durability and customization.\\n   - Equipped with ventilation zippers for increased airflow.\\n   - ⭐ Pair it with the TrailBlaze Hiking Pants for a stylish and functional hiking outfit! 🌲\\n\\nBoth jackets are designed for outdoor enthusiasts like you, Sarah Lee! Stay stylish, protected, and ready for any adventure. 😊🌟 Let me know if you need any more information!',\n",
       " 'context': [{'id': '3',\n",
       "   'title': 'Summit Breeze Jacket',\n",
       "   'content': \"Discover the joy of hiking with MountainStyle's Summit Breeze Jacket. This lightweight jacket is your perfect companion for outdoor adventures. Sporting a trail-ready, windproof design and a water-resistant fabric, it's ready to withstand any weather. The breathable polyester material and adjustable cuffs keep you comfortable, whether you're ascending a mountain or strolling through a park. And its sleek black color adds style to function. The jacket features a full-zip front closure, adjustable hood, and secure zippered pockets. Experience the comfort of its inner lining and the convenience of its packable design. Crafted for night trekkers too, the jacket has reflective accents for enhanced visibility. Rugged yet chic, the Summit Breeze Jacket is more than a hiking essential, it's the gear that inspires you to reach new heights. Choose adventure, choose the Summit Breeze Jacket.\",\n",
       "   'url': '/products/summit-breeze-jacket'},\n",
       "  {'id': '17',\n",
       "   'title': 'RainGuard Hiking Jacket',\n",
       "   'content': \"Introducing the MountainStyle RainGuard Hiking Jacket - the ultimate solution for weatherproof comfort during your outdoor undertakings! Designed with waterproof, breathable fabric, this jacket promises an outdoor experience that's as dry as it is comfortable. The rugged construction assures durability, while the adjustable hood provides a customizable fit against wind and rain. Featuring multiple pockets for safe, convenient storage and adjustable cuffs and hem, you can tailor the jacket to suit your needs on-the-go. And, don't worry about overheating during intense activities - it's equipped with ventilation zippers for increased airflow. Reflective details ensure visibility even during low-light conditions, making it perfect for evening treks. With its lightweight, packable design, carrying it inside your backpack requires minimal effort. With options for men and women, the RainGuard Hiking Jacket is perfect for hiking, camping, trekking and countless other outdoor adventures. Don't let the weather stand in your way - embrace the outdoors with MountainStyle RainGuard Hiking Jacket!\",\n",
       "   'url': '/products/rainguard-hiking-jacket'},\n",
       "  {'id': '4',\n",
       "   'title': 'TrekReady Hiking Boots',\n",
       "   'content': \"Introducing the TrekReady Hiking Boots - stepping up your hiking game, one footprint at a time! Crafted from leather, these stylistic Trailmates are made to last. TrekReady infuses durability with its reinforced stitching and toe protection, making sure your journey is never stopped short. Comfort? They have that covered too! The boots are a haven with their breathable materials, cushioned insole, with padded collar and tongue; all nestled neatly within their lightweight design. As they say, it's what's inside that counts - so inside you'll find a moisture-wicking lining that quarantines stank and keeps your feet fresh as that mountaintop breeze. Remember the fear of slippery surfaces? With these boots, you can finally tell it to 'take a hike'! Their shock-absorbing midsoles and excellent traction capabilities promise stability at your every step. Beautifully finished in a traditional lace-up system, every adventurer deserves a pair of TrekReady Hiking Boots. Hike more, worry less!\",\n",
       "   'url': '/products/trekready-hiking-boots'}]}"
      ]
     },
     "execution_count": 3,
     "metadata": {},
     "output_type": "execute_result"
    }
   ],
   "source": [
    "output"
   ]
  },
  {
   "cell_type": "markdown",
   "metadata": {},
   "source": [
    "Test the groundedness of the prompt flow with the answer from the above question."
   ]
  },
  {
   "cell_type": "code",
   "execution_count": 4,
   "metadata": {},
   "outputs": [
    {
     "name": "stdout",
     "output_type": "stream",
     "text": [
      "2024-01-11 21:23:03 +0000   29173 execution.flow     INFO     Start executing nodes in thread pool mode.\n",
      "2024-01-11 21:23:03 +0000   29173 execution.flow     INFO     Start to run 2 nodes with concurrency level 16.\n",
      "2024-01-11 21:23:03 +0000   29173 execution.flow     INFO     Executing node groundedness_score. node run id: c00abf47-ac26-44da-974a-9d75ccd8592c_groundedness_score_0\n",
      "2024-01-11 21:23:04 +0000   29173 execution.flow     INFO     Node groundedness_score completes.\n",
      "2024-01-11 21:23:04 +0000   29173 execution.flow     INFO     Executing node concat_scores. node run id: c00abf47-ac26-44da-974a-9d75ccd8592c_concat_scores_0\n",
      "2024-01-11 21:23:04 +0000   29173 execution.flow     INFO     Node concat_scores completes.\n",
      "2024-01-11 21:23:04 +0000   29173 execution.flow     INFO     Start to run 1 nodes with concurrency level 16.\n",
      "2024-01-11 21:23:04 +0000   29173 execution.flow     INFO     Executing node aggregate_variants_results. node run id: 7bd1819f-555b-4125-ab0f-516087b8c603_aggregate_variants_results_reduce\n",
      "2024-01-11 21:23:04 +0000   29173 execution.flow     INFO     Node aggregate_variants_results completes.\n"
     ]
    }
   ],
   "source": [
    "test = pf_client.test(\n",
    "    flow=\"groundedness\",\n",
    "    inputs={\n",
    "        \"question\": question,\n",
    "        \"context\": str(output[\"context\"]),\n",
    "        \"answer\": output[\"answer\"],\n",
    "    },\n",
    ")"
   ]
  },
  {
   "cell_type": "code",
   "execution_count": 5,
   "metadata": {},
   "outputs": [
    {
     "data": {
      "text/plain": [
       "{'gpt_groundedness': 5.0}"
      ]
     },
     "execution_count": 5,
     "metadata": {},
     "output_type": "execute_result"
    }
   ],
   "source": [
    "test"
   ]
  },
  {
   "cell_type": "markdown",
   "metadata": {},
   "source": [
    "# Local Evaluation - Multiple Metrics \n",
    "\n",
    "Now use the same prompt flow and test it against the Multi Evaluation flow for groundedness, coherence, fluency, and relevance."
   ]
  },
  {
   "cell_type": "code",
   "execution_count": 6,
   "metadata": {},
   "outputs": [
    {
     "name": "stdout",
     "output_type": "stream",
     "text": [
      "2024-01-11 21:23:04 +0000   29173 execution.flow     INFO     Start executing nodes in thread pool mode.\n",
      "2024-01-11 21:23:04 +0000   29173 execution.flow     INFO     Start to run 8 nodes with concurrency level 16.\n",
      "2024-01-11 21:23:04 +0000   29173 execution.flow     INFO     Executing node coherence_score. node run id: c3fcb157-e400-4b54-9dda-6e7bf83c5b9b_coherence_score_0\n",
      "2024-01-11 21:23:04 +0000   29173 execution.flow     INFO     Executing node fluency_score. node run id: c3fcb157-e400-4b54-9dda-6e7bf83c5b9b_fluency_score_0\n",
      "2024-01-11 21:23:04 +0000   29173 execution.flow     INFO     Executing node groundedness_score. node run id: c3fcb157-e400-4b54-9dda-6e7bf83c5b9b_groundedness_score_0\n",
      "2024-01-11 21:23:04 +0000   29173 execution.flow     INFO     Executing node relevance_score. node run id: c3fcb157-e400-4b54-9dda-6e7bf83c5b9b_relevance_score_0\n",
      "2024-01-11 21:23:05 +0000   29173 execution.flow     INFO     Node coherence_score completes.\n",
      "2024-01-11 21:23:05 +0000   29173 execution.flow     INFO     Executing node coherence_concat_scores. node run id: c3fcb157-e400-4b54-9dda-6e7bf83c5b9b_coherence_concat_scores_0\n",
      "2024-01-11 21:23:05 +0000   29173 execution.flow     INFO     Node coherence_concat_scores completes.\n",
      "2024-01-11 21:23:05 +0000   29173 execution.flow     INFO     Node fluency_score completes.\n",
      "2024-01-11 21:23:05 +0000   29173 execution.flow     INFO     Executing node fluency_concat_scores. node run id: c3fcb157-e400-4b54-9dda-6e7bf83c5b9b_fluency_concat_scores_0\n",
      "2024-01-11 21:23:05 +0000   29173 execution.flow     INFO     Node fluency_concat_scores completes.\n",
      "2024-01-11 21:23:05 +0000   29173 execution.flow     INFO     Node groundedness_score completes.\n",
      "2024-01-11 21:23:05 +0000   29173 execution.flow     INFO     Executing node groundedness_concat_scores. node run id: c3fcb157-e400-4b54-9dda-6e7bf83c5b9b_groundedness_concat_scores_0\n",
      "2024-01-11 21:23:05 +0000   29173 execution.flow     INFO     Node groundedness_concat_scores completes.\n",
      "2024-01-11 21:23:06 +0000   29173 execution.flow     INFO     Node relevance_score completes.\n",
      "2024-01-11 21:23:06 +0000   29173 execution.flow     INFO     Executing node relevance_concat_scores. node run id: c3fcb157-e400-4b54-9dda-6e7bf83c5b9b_relevance_concat_scores_0\n",
      "2024-01-11 21:23:06 +0000   29173 execution.flow     INFO     Node relevance_concat_scores completes.\n",
      "2024-01-11 21:23:06 +0000   29173 execution.flow     INFO     Start to run 4 nodes with concurrency level 16.\n",
      "2024-01-11 21:23:06 +0000   29173 execution.flow     INFO     Executing node coherence_aggregate_variants_results. node run id: ac3a5305-ac1c-409a-a889-e104a883ba93_coherence_aggregate_variants_results_reduce\n",
      "2024-01-11 21:23:06 +0000   29173 execution.flow     INFO     Executing node fluency_aggregate_variants_results. node run id: ac3a5305-ac1c-409a-a889-e104a883ba93_fluency_aggregate_variants_results_reduce\n",
      "2024-01-11 21:23:06 +0000   29173 execution.flow     INFO     Executing node groundedness_aggregate_variants_results. node run id: ac3a5305-ac1c-409a-a889-e104a883ba93_groundedness_aggregate_variants_results_reduce\n",
      "2024-01-11 21:23:06 +0000   29173 execution.flow     INFO     Executing node relevance_aggregate_variants_results. node run id: ac3a5305-ac1c-409a-a889-e104a883ba93_relevance_aggregate_variants_results_reduce\n",
      "2024-01-11 21:23:06 +0000   29173 execution.flow     INFO     Node coherence_aggregate_variants_results completes.\n",
      "2024-01-11 21:23:06 +0000   29173 execution.flow     INFO     Node fluency_aggregate_variants_results completes.\n",
      "2024-01-11 21:23:06 +0000   29173 execution.flow     INFO     Node groundedness_aggregate_variants_results completes.\n",
      "2024-01-11 21:23:06 +0000   29173 execution.flow     INFO     Node relevance_aggregate_variants_results completes.\n"
     ]
    }
   ],
   "source": [
    "test_multi = pf_client.test(\n",
    "    \"multi_flow\",\n",
    "    inputs={\n",
    "        \"question\": question,\n",
    "        \"context\": str(output[\"context\"]),\n",
    "        \"answer\": output[\"answer\"],\n",
    "    },\n",
    ")"
   ]
  },
  {
   "cell_type": "code",
   "execution_count": 7,
   "metadata": {},
   "outputs": [
    {
     "data": {
      "text/plain": [
       "{'gpt_coherence': 5.0,\n",
       " 'gpt_fluency': 5.0,\n",
       " 'gpt_groundedness': 5.0,\n",
       " 'gpt_relevance': 5.0}"
      ]
     },
     "execution_count": 7,
     "metadata": {},
     "output_type": "execute_result"
    }
   ],
   "source": [
    "test_multi"
   ]
  },
  {
   "cell_type": "markdown",
   "metadata": {},
   "source": [
    "# AI Studio Azure batch run on an evaluation json dataset\n",
    "\n",
    "Now in order to test these more thoroughly, we can use the Azure AI Studio to run batches of test data with the evaluation prompt flow on a larger dataset."
   ]
  },
  {
   "cell_type": "code",
   "execution_count": 8,
   "metadata": {},
   "outputs": [],
   "source": [
    "import json\n",
    "# Import required libraries\n",
    "from promptflow.azure import PFClient\n",
    "\n",
    "# Import required libraries\n",
    "from azure.identity import DefaultAzureCredential, InteractiveBrowserCredential"
   ]
  },
  {
   "cell_type": "code",
   "execution_count": 9,
   "metadata": {},
   "outputs": [],
   "source": [
    "try:\n",
    "    credential = DefaultAzureCredential()\n",
    "    # Check if given credential can get token successfully.\n",
    "    credential.get_token(\"https://management.azure.com/.default\")\n",
    "except Exception as ex:\n",
    "    # Fall back to InteractiveBrowserCredential in case DefaultAzureCredential not work\n",
    "    credential = InteractiveBrowserCredential()"
   ]
  },
  {
   "cell_type": "markdown",
   "metadata": {},
   "source": [
    "Populate the `config.json` file with the subscription_id, resource_group, and workspace_name."
   ]
  },
  {
   "cell_type": "code",
   "execution_count": 10,
   "metadata": {},
   "outputs": [
    {
     "name": "stderr",
     "output_type": "stream",
     "text": [
      "Found the config file in: ../config.json\n"
     ]
    }
   ],
   "source": [
    "config_path = \"../config.json\"\n",
    "pf_azure_client = PFClient.from_config(credential=credential, path=config_path)"
   ]
  },
  {
   "cell_type": "markdown",
   "metadata": {},
   "source": [
    "Add the runtime from the AI Studio that will be used for the cloud batch runs."
   ]
  },
  {
   "cell_type": "code",
   "execution_count": 11,
   "metadata": {},
   "outputs": [],
   "source": [
    "# Update the runtime to the name of the runtime you created previously\n",
    "runtime = \"automatic\"\n",
    "# load flow\n",
    "flow = \"../contoso-chat\"\n",
    "# load data\n",
    "data = \"../data/salestestdata.jsonl\""
   ]
  },
  {
   "cell_type": "code",
   "execution_count": 12,
   "metadata": {},
   "outputs": [
    {
     "name": "stdout",
     "output_type": "stream",
     "text": [
      "2024_01_11_212319chat_base_run\n"
     ]
    }
   ],
   "source": [
    "# get current time stamp for run name\n",
    "import datetime\n",
    "now = datetime.datetime.now()\n",
    "timestamp = now.strftime(\"%Y_%m_%d_%H%M%S\")\n",
    "run_name = timestamp+\"chat_base_run\"\n",
    "print(run_name)"
   ]
  },
  {
   "cell_type": "markdown",
   "metadata": {},
   "source": [
    "Create a base run to use as the variant for the evaluation runs. \n",
    "\n",
    "_NOTE: If you get \"'An existing connection was forcibly closed by the remote host'\" run the cell again._"
   ]
  },
  {
   "cell_type": "code",
   "execution_count": 13,
   "metadata": {},
   "outputs": [
    {
     "name": "stderr",
     "output_type": "stream",
     "text": [
      "[2024-01-11 21:23:20,053][promptflow][WARNING] - You're using automatic runtime, if it's first time you're using it, it may take a while to build runtime and request may fail with timeout error. Wait a while and resubmit same flow can successfully start the run.\n",
      "\u001b[32mUploading salestestdata.jsonl\u001b[32m (< 1 MB): 100%|██████████| 465/465 [00:00<00:00, 2.77kB/s]\n",
      "\u001b[39m\n",
      "\n",
      "\u001b[32mUploading contoso-chat (0.66 MBs): 100%|██████████| 658668/658668 [00:01<00:00, 539675.80it/s] \n",
      "\u001b[39m\n",
      "\n",
      "[2024-01-11 21:23:23,567][promptflow.azure._restclient.flow_service_caller][INFO] - Start polling until session creation is completed...\n"
     ]
    },
    {
     "name": "stdout",
     "output_type": "stream",
     "text": [
      "Waiting for session creation, current status: InProgress\n",
      "Waiting for session creation, current status: InProgress\n",
      "Waiting for session creation, current status: InProgress\n",
      "Waiting for session creation, current status: InProgress\n",
      "Waiting for session creation, current status: InProgress\n"
     ]
    },
    {
     "name": "stderr",
     "output_type": "stream",
     "text": [
      "[2024-01-11 21:26:53,907][promptflow.azure._restclient.flow_service_caller][INFO] - Session creation finished with status Succeeded.\n"
     ]
    },
    {
     "name": "stdout",
     "output_type": "stream",
     "text": [
      "Waiting for session creation, current status: Succeeded\n",
      "Portal url: https://ai.azure.com/projectflows/bulkrun/run/2024_01_11_212319chat_base_run/details?wsid=/subscriptions/9cc85ebc-ba00-4394-9f22-9dbb99e76655/resourcegroups/rg-contosochatai/providers/Microsoft.MachineLearningServices/workspaces/contoso-chat-aiproj\n",
      "name: 2024_01_11_212319chat_base_run\n",
      "created_on: '2024-01-11T21:26:58.663258+00:00'\n",
      "status: Preparing\n",
      "display_name: 2024_01_11_212319chat_base_run\n",
      "description: null\n",
      "tags: {}\n",
      "properties:\n",
      "  azureml.promptflow.runtime_name: automatic\n",
      "  azureml.promptflow.runtime_version: 20231218.v2\n",
      "  azureml.promptflow.definition_file_name: flow.dag.yaml\n",
      "  azureml.promptflow.session_id: b44b14768b8e054c96eb643d010076cd6087d3f708341631\n",
      "  azureml.promptflow.flow_lineage_id: a6117409b8b717c7e79942d8573769a6d1f4ac180e7fabad302590d2b43bff3c\n",
      "  azureml.promptflow.flow_definition_datastore_name: workspaceblobstore\n",
      "  azureml.promptflow.flow_definition_blob_path: LocalUpload/39fadcf054410fe3c78303ee6edb50ae/contoso-chat/flow.dag.yaml\n",
      "  azureml.promptflow.inputs_mapping: '{\"customerId\":\"${data.customerId}\",\"question\":\"${data.question}\"}'\n",
      "  _azureml.evaluation_run: promptflow.BatchRun\n",
      "  azureml.promptflow.snapshot_id: 9b2a6f52-96b8-454b-9c95-b07e156bb334\n",
      "creation_context:\n",
      "  userObjectId: 1981e272-54c6-4345-a077-64f3db16c4a8\n",
      "  userPuId: 100320033F27ACCA\n",
      "  userIdp: null\n",
      "  userAltSecId: null\n",
      "  userIss: https://sts.windows.net/d2f64b03-2cce-4f20-900e-b81248ebc1a8/\n",
      "  userTenantId: d2f64b03-2cce-4f20-900e-b81248ebc1a8\n",
      "  userName: User1-36881778\n",
      "  upn: null\n",
      "start_time: null\n",
      "end_time: null\n",
      "duration: null\n",
      "portal_url: https://ai.azure.com/projectflows/bulkrun/run/2024_01_11_212319chat_base_run/details?wsid=/subscriptions/9cc85ebc-ba00-4394-9f22-9dbb99e76655/resourcegroups/rg-contosochatai/providers/Microsoft.MachineLearningServices/workspaces/contoso-chat-aiproj\n",
      "data: azureml://datastores/workspaceblobstore/paths/LocalUpload/4d587c1ae8d46401e3a71b74abe367df/salestestdata.jsonl\n",
      "output: null\n",
      "\n"
     ]
    }
   ],
   "source": [
    "# create base run in Azure Ai Studio\n",
    "base_run = pf_azure_client.run(\n",
    "    flow=flow,\n",
    "    data=data,\n",
    "    column_mapping={\n",
    "        # reference data\n",
    "        \"customerId\": \"${data.customerId}\",\n",
    "        \"question\": \"${data.question}\",\n",
    "    },\n",
    "    runtime=runtime,\n",
    "    # create a display name as current datetime\n",
    "    display_name=run_name,\n",
    "    name=run_name\n",
    ")\n",
    "print(base_run)"
   ]
  },
  {
   "cell_type": "code",
   "execution_count": 14,
   "metadata": {},
   "outputs": [
    {
     "name": "stdout",
     "output_type": "stream",
     "text": [
      "2024-01-11 21:27:04 +0000     165 promptflow-runtime INFO     [2024_01_11_212319chat_base_run] Receiving v2 bulk run request bc14fc76-d349-4cf6-b0af-ed9fc2785121: {\"flow_id\": \"2024_01_11_212319chat_base_run\", \"flow_run_id\": \"2024_01_11_212319chat_base_run\", \"flow_source\": {\"flow_source_type\": 1, \"flow_source_info\": {\"snapshot_id\": \"9b2a6f52-96b8-454b-9c95-b07e156bb334\"}, \"flow_dag_file\": \"flow.dag.yaml\"}, \"connections\": \"**data_scrubbed**\", \"log_path\": \"https://stcontosocha985657812778.blob.core.windows.net/9e083a5b-0e63-44ca-9d0e-fc0d4f0c2da4-azureml/ExperimentRun/dcid.2024_01_11_212319chat_base_run/logs/azureml/executionlogs.txt?sv=2019-07-07&sr=b&sig=**data_scrubbed**&skoid=64f4f677-3361-4d69-9fe7-39384cc6d2f9&sktid=d2f64b03-2cce-4f20-900e-b81248ebc1a8&skt=2024-01-11T21%3A16%3A56Z&ske=2024-01-13T05%3A26%3A56Z&sks=b&skv=2019-07-07&st=2024-01-11T21%3A17%3A03Z&se=2024-01-12T05%3A27%3A03Z&sp=rcw\", \"app_insights_instrumentation_key\": \"InstrumentationKey=**data_scrubbed**;IngestionEndpoint=https://swedencentral-0.in.applicationinsights.azure.com/\", \"data_inputs\": {\"data\": \"azureml://datastores/workspaceblobstore/paths/LocalUpload/4d587c1ae8d46401e3a71b74abe367df/salestestdata.jsonl\"}, \"inputs_mapping\": {\"customerId\": \"${data.customerId}\", \"question\": \"${data.question}\"}, \"azure_storage_setting\": {\"azure_storage_mode\": 1, \"storage_account_name\": \"stcontosocha985657812778\", \"blob_container_name\": \"9e083a5b-0e63-44ca-9d0e-fc0d4f0c2da4-azureml-blobstore\", \"flow_artifacts_root_path\": \"promptflow/PromptFlowArtifacts/2024_01_11_212319chat_base_run\", \"blob_container_sas_token\": \"?sv=2019-07-07&sr=c&sig=**data_scrubbed**&skoid=64f4f677-3361-4d69-9fe7-39384cc6d2f9&sktid=d2f64b03-2cce-4f20-900e-b81248ebc1a8&skt=2024-01-11T21%3A27%3A03Z&ske=2024-01-18T21%3A27%3A03Z&sks=b&skv=2019-07-07&se=2024-01-18T21%3A27%3A03Z&sp=racwl\", \"output_datastore_name\": \"workspaceblobstore\"}}\n",
      "2024-01-11 21:27:04 +0000     165 promptflow-runtime INFO     Runtime version: 20231218.v2. PromptFlow version: 1.3.0rc2\n",
      "2024-01-11 21:27:04 +0000     165 promptflow-runtime INFO     Updating 2024_01_11_212319chat_base_run to Status.Preparing...\n",
      "2024-01-11 21:27:04 +0000     165 promptflow-runtime INFO     Downloading snapshot to /mnt/host/service/app/34791/requests/2024_01_11_212319chat_base_run\n",
      "2024-01-11 21:27:04 +0000     165 promptflow-runtime INFO     Get snapshot sas url for 9b2a6f52-96b8-454b-9c95-b07e156bb334...\n",
      "2024-01-11 21:27:10 +0000     165 promptflow-runtime INFO     Downloading snapshot 9b2a6f52-96b8-454b-9c95-b07e156bb334 from uri https://stcontosocha985657812778.blob.core.windows.net/9e083a5b-0e63-44ca-9d0e-fc0d4f0c2da4-snapshotzips/contoso-chat-aiproj:9e083a5b-0e63-44ca-9d0e-fc0d4f0c2da4:snapshotzip/9b2a6f52-96b8-454b-9c95-b07e156bb334.zip...\n",
      "2024-01-11 21:27:11 +0000     165 promptflow-runtime INFO     Downloaded file /mnt/host/service/app/34791/requests/2024_01_11_212319chat_base_run/9b2a6f52-96b8-454b-9c95-b07e156bb334.zip with size 162405 for snapshot 9b2a6f52-96b8-454b-9c95-b07e156bb334.\n",
      "2024-01-11 21:27:11 +0000     165 promptflow-runtime INFO     Download snapshot 9b2a6f52-96b8-454b-9c95-b07e156bb334 completed.\n",
      "2024-01-11 21:27:11 +0000     165 promptflow-runtime INFO     Successfully download snapshot to /mnt/host/service/app/34791/requests/2024_01_11_212319chat_base_run\n",
      "2024-01-11 21:27:11 +0000     165 promptflow-runtime INFO     About to execute a python flow.\n",
      "2024-01-11 21:27:11 +0000     165 promptflow-runtime INFO     Use spawn method to start child process.\n",
      "2024-01-11 21:27:11 +0000     165 promptflow-runtime INFO     Starting to check process 223 status for run 2024_01_11_212319chat_base_run\n",
      "2024-01-11 21:27:11 +0000     165 promptflow-runtime INFO     Start checking run status for run 2024_01_11_212319chat_base_run\n",
      "2024-01-11 21:27:14 +0000     223 promptflow-runtime INFO     [165--223] Start processing flowV2......\n",
      "2024-01-11 21:27:14 +0000     223 promptflow-runtime INFO     Runtime version: 20231218.v2. PromptFlow version: 1.3.0rc2\n",
      "2024-01-11 21:27:15 +0000     223 promptflow-runtime INFO     Setting mlflow tracking uri...\n",
      "2024-01-11 21:27:15 +0000     223 promptflow-runtime INFO     Validating 'AzureML Data Scientist' user authentication...\n",
      "2024-01-11 21:27:15 +0000     223 promptflow-runtime INFO     Successfully validated 'AzureML Data Scientist' user authentication.\n",
      "2024-01-11 21:27:15 +0000     223 promptflow-runtime INFO     Using AzureMLRunStorageV2\n",
      "2024-01-11 21:27:15 +0000     223 promptflow-runtime INFO     Setting mlflow tracking uri to 'azureml://swedencentral.api.azureml.ms/mlflow/v1.0/subscriptions/9cc85ebc-ba00-4394-9f22-9dbb99e76655/resourceGroups/rg-contosochatai/providers/Microsoft.MachineLearningServices/workspaces/contoso-chat-aiproj'\n",
      "2024-01-11 21:27:15 +0000     223 promptflow-runtime INFO     Initialized blob service client for AzureMLRunTracker.\n",
      "2024-01-11 21:27:15 +0000     223 promptflow-runtime INFO     Setting mlflow tracking uri to 'azureml://swedencentral.api.azureml.ms/mlflow/v1.0/subscriptions/9cc85ebc-ba00-4394-9f22-9dbb99e76655/resourceGroups/rg-contosochatai/providers/Microsoft.MachineLearningServices/workspaces/contoso-chat-aiproj'\n",
      "2024-01-11 21:27:16 +0000     223 promptflow-runtime INFO     Resolve data from url finished in 0.6100319480001417 seconds\n",
      "2024-01-11 21:27:16 +0000     223 promptflow-runtime INFO     Starting the aml run '2024_01_11_212319chat_base_run'...\n",
      "2024-01-11 21:27:17 +0000     223 execution.bulk     INFO     Set process count to 5 by taking the minimum value among the factors of {'default_worker_count': 16, 'row_count': 5}.\n",
      "2024-01-11 21:27:17 +0000     267 execution.bulk     INFO     Process 267 started.\n",
      "2024-01-11 21:27:17 +0000     279 execution.bulk     INFO     Process 279 started.\n",
      "2024-01-11 21:27:17 +0000     223 execution.bulk     INFO     Process name: ForkProcess-2:2, Process id: 267, Line number: 0 start execution.\n",
      "2024-01-11 21:27:17 +0000     223 execution.bulk     INFO     Process name: ForkProcess-2:6, Process id: 279, Line number: 1 start execution.\n",
      "2024-01-11 21:27:17 +0000     283 execution.bulk     INFO     Process 283 started.\n",
      "2024-01-11 21:27:17 +0000     277 execution.bulk     INFO     Process 277 started.\n",
      "2024-01-11 21:27:17 +0000     275 execution.bulk     INFO     Process 275 started.\n",
      "2024-01-11 21:27:17 +0000     223 execution.bulk     INFO     Process name: ForkProcess-2:5, Process id: 283, Line number: 2 start execution.\n",
      "2024-01-11 21:27:17 +0000     223 execution.bulk     INFO     Process name: ForkProcess-2:4, Process id: 277, Line number: 3 start execution.\n",
      "2024-01-11 21:27:17 +0000     223 execution.bulk     INFO     Process name: ForkProcess-2:3, Process id: 275, Line number: 4 start execution.\n",
      "2024-01-11 21:27:26 +0000     223 execution.bulk     INFO     Process name: ForkProcess-2:3, Process id: 275, Line number: 4 completed.\n",
      "2024-01-11 21:27:26 +0000     223 execution.bulk     INFO     Finished 1 / 5 lines.\n",
      "2024-01-11 21:27:26 +0000     223 execution.bulk     INFO     Average execution time for completed lines: 9.71 seconds. Estimated time for incomplete lines: 38.84 seconds.\n",
      "2024-01-11 21:27:28 +0000     223 execution.bulk     INFO     Process name: ForkProcess-2:6, Process id: 279, Line number: 1 completed.\n",
      "2024-01-11 21:27:28 +0000     223 execution.bulk     INFO     Finished 2 / 5 lines.\n",
      "2024-01-11 21:27:28 +0000     223 execution.bulk     INFO     Average execution time for completed lines: 5.63 seconds. Estimated time for incomplete lines: 16.89 seconds.\n",
      "2024-01-11 21:27:28 +0000     223 execution.bulk     INFO     Process name: ForkProcess-2:2, Process id: 267, Line number: 0 completed.\n",
      "2024-01-11 21:27:28 +0000     223 execution.bulk     INFO     Finished 3 / 5 lines.\n",
      "2024-01-11 21:27:28 +0000     223 execution.bulk     INFO     Average execution time for completed lines: 3.83 seconds. Estimated time for incomplete lines: 7.66 seconds.\n",
      "2024-01-11 21:27:28 +0000     223 execution.bulk     INFO     Process name: ForkProcess-2:5, Process id: 283, Line number: 2 completed.\n",
      "2024-01-11 21:27:28 +0000     223 execution.bulk     INFO     Process name: ForkProcess-2:4, Process id: 277, Line number: 3 completed.\n",
      "2024-01-11 21:27:28 +0000     223 execution.bulk     INFO     Finished 5 / 5 lines.\n",
      "2024-01-11 21:27:28 +0000     223 execution.bulk     INFO     Finished 5 / 5 lines.\n",
      "2024-01-11 21:27:28 +0000     223 execution.bulk     INFO     Average execution time for completed lines: 2.31 seconds. Estimated time for incomplete lines: 0.0 seconds.\n",
      "2024-01-11 21:27:28 +0000     223 execution.bulk     INFO     Average execution time for completed lines: 2.31 seconds. Estimated time for incomplete lines: 0.0 seconds.\n",
      "2024-01-11 21:27:32 +0000     223 execution.bulk     INFO     Upload status summary metrics for run 2024_01_11_212319chat_base_run finished in 2.2014558170001237 seconds\n",
      "2024-01-11 21:27:32 +0000     223 promptflow-runtime INFO     Successfully write run properties {\"azureml.promptflow.total_tokens\": 7728, \"_azureml.evaluate_artifacts\": \"[{\\\"path\\\": \\\"instance_results.jsonl\\\", \\\"type\\\": \\\"table\\\"}]\"} with run id '2024_01_11_212319chat_base_run'\n",
      "2024-01-11 21:27:32 +0000     223 execution.bulk     INFO     Upload RH properties for run 2024_01_11_212319chat_base_run finished in 0.055735629000082554 seconds\n",
      "2024-01-11 21:27:32 +0000     223 promptflow-runtime INFO     Creating unregistered output Asset for Run 2024_01_11_212319chat_base_run...\n",
      "2024-01-11 21:27:32 +0000     223 promptflow-runtime INFO     Created debug_info Asset: azureml://locations/swedencentral/workspaces/9e083a5b-0e63-44ca-9d0e-fc0d4f0c2da4/data/azureml_2024_01_11_212319chat_base_run_output_data_debug_info/versions/1\n",
      "2024-01-11 21:27:32 +0000     223 promptflow-runtime INFO     Creating unregistered output Asset for Run 2024_01_11_212319chat_base_run...\n",
      "2024-01-11 21:27:32 +0000     223 promptflow-runtime INFO     Created flow_outputs output Asset: azureml://locations/swedencentral/workspaces/9e083a5b-0e63-44ca-9d0e-fc0d4f0c2da4/data/azureml_2024_01_11_212319chat_base_run_output_data_flow_outputs/versions/1\n",
      "2024-01-11 21:27:32 +0000     223 promptflow-runtime INFO     Creating Artifact for Run 2024_01_11_212319chat_base_run...\n",
      "2024-01-11 21:27:32 +0000     223 promptflow-runtime INFO     Created instance_results.jsonl Artifact.\n",
      "2024-01-11 21:27:32 +0000     223 promptflow-runtime INFO     Patching 2024_01_11_212319chat_base_run...\n",
      "2024-01-11 21:27:32 +0000     223 promptflow-runtime INFO     Ending the aml run '2024_01_11_212319chat_base_run' with status 'Completed'...\n",
      "2024-01-11 21:27:35 +0000     165 promptflow-runtime INFO     Process 223 finished\n",
      "2024-01-11 21:27:35 +0000     165 promptflow-runtime INFO     [165] Child process finished!\n",
      "2024-01-11 21:27:35 +0000     165 promptflow-runtime INFO     [2024_01_11_212319chat_base_run] End processing bulk run\n",
      "2024-01-11 21:27:35 +0000     165 promptflow-runtime INFO     Cleanup working dir /mnt/host/service/app/34791/requests/2024_01_11_212319chat_base_run for bulk run\n",
      "======= Run Summary =======\n",
      "Run name: \"2024_01_11_212319chat_base_run\"\n",
      "Run status: \"Completed\"\n",
      "Start time: \"2024-01-11 21:27:16.946989+00:00\"\n",
      "Duration: \"0:00:16.077483\"\n",
      "Run url: \"https://ai.azure.com/projectflows/bulkrun/run/2024_01_11_212319chat_base_run/details?wsid=/subscriptions/9cc85ebc-ba00-4394-9f22-9dbb99e76655/resourcegroups/rg-contosochatai/providers/Microsoft.MachineLearningServices/workspaces/contoso-chat-aiproj\""
     ]
    },
    {
     "data": {
      "text/plain": [
       "<promptflow._sdk.entities._run.Run at 0x7fe202571d10>"
      ]
     },
     "execution_count": 14,
     "metadata": {},
     "output_type": "execute_result"
    }
   ],
   "source": [
    "pf_azure_client.stream(base_run)"
   ]
  },
  {
   "cell_type": "code",
   "execution_count": 15,
   "metadata": {},
   "outputs": [
    {
     "data": {
      "text/html": [
       "<div>\n",
       "<style scoped>\n",
       "    .dataframe tbody tr th:only-of-type {\n",
       "        vertical-align: middle;\n",
       "    }\n",
       "\n",
       "    .dataframe tbody tr th {\n",
       "        vertical-align: top;\n",
       "    }\n",
       "\n",
       "    .dataframe thead th {\n",
       "        text-align: right;\n",
       "    }\n",
       "</style>\n",
       "<table border=\"1\" class=\"dataframe\">\n",
       "  <thead>\n",
       "    <tr style=\"text-align: right;\">\n",
       "      <th></th>\n",
       "      <th>inputs.customerId</th>\n",
       "      <th>inputs.question</th>\n",
       "      <th>inputs.line_number</th>\n",
       "      <th>inputs.chat_history</th>\n",
       "      <th>outputs.answer</th>\n",
       "      <th>outputs.context</th>\n",
       "    </tr>\n",
       "    <tr>\n",
       "      <th>outputs.line_number</th>\n",
       "      <th></th>\n",
       "      <th></th>\n",
       "      <th></th>\n",
       "      <th></th>\n",
       "      <th></th>\n",
       "      <th></th>\n",
       "    </tr>\n",
       "  </thead>\n",
       "  <tbody>\n",
       "    <tr>\n",
       "      <th>4</th>\n",
       "      <td>2</td>\n",
       "      <td>What gear do you recommend for hiking?</td>\n",
       "      <td>4</td>\n",
       "      <td>[]</td>\n",
       "      <td>Hey Jane Doe! For hiking gear, I recommend the...</td>\n",
       "      <td>[{'id': '10', 'title': 'TrailBlaze Hiking Pant...</td>\n",
       "    </tr>\n",
       "    <tr>\n",
       "      <th>1</th>\n",
       "      <td>1</td>\n",
       "      <td>Do you have any climbing gear?</td>\n",
       "      <td>1</td>\n",
       "      <td>[]</td>\n",
       "      <td>Hey John! 🧗‍♂️ Absolutely, we have some awesom...</td>\n",
       "      <td>[{'id': '9', 'title': 'SummitClimber Backpack'...</td>\n",
       "    </tr>\n",
       "    <tr>\n",
       "      <th>0</th>\n",
       "      <td>4</td>\n",
       "      <td>tell me about your hiking jackets</td>\n",
       "      <td>0</td>\n",
       "      <td>[]</td>\n",
       "      <td>Hey Sarah Lee! 🌟 Let me tell you about our awe...</td>\n",
       "      <td>[{'id': '17', 'title': 'RainGuard Hiking Jacke...</td>\n",
       "    </tr>\n",
       "    <tr>\n",
       "      <th>2</th>\n",
       "      <td>3</td>\n",
       "      <td>Can you tell me about your selection of tents?</td>\n",
       "      <td>2</td>\n",
       "      <td>[]</td>\n",
       "      <td>Hey Michael! 🌟 We've got a fantastic selection...</td>\n",
       "      <td>[{'id': '15', 'title': 'SkyView 2-Person Tent'...</td>\n",
       "    </tr>\n",
       "    <tr>\n",
       "      <th>3</th>\n",
       "      <td>6</td>\n",
       "      <td>Do you have any hiking boots?</td>\n",
       "      <td>3</td>\n",
       "      <td>[]</td>\n",
       "      <td>Hey Emily! 👋 Absolutely, we have some awesome ...</td>\n",
       "      <td>[{'id': '4', 'title': 'TrekReady Hiking Boots'...</td>\n",
       "    </tr>\n",
       "  </tbody>\n",
       "</table>\n",
       "</div>"
      ],
      "text/plain": [
       "                    inputs.customerId  \\\n",
       "outputs.line_number                     \n",
       "4                                   2   \n",
       "1                                   1   \n",
       "0                                   4   \n",
       "2                                   3   \n",
       "3                                   6   \n",
       "\n",
       "                                                    inputs.question  \\\n",
       "outputs.line_number                                                   \n",
       "4                            What gear do you recommend for hiking?   \n",
       "1                                    Do you have any climbing gear?   \n",
       "0                                 tell me about your hiking jackets   \n",
       "2                    Can you tell me about your selection of tents?   \n",
       "3                                     Do you have any hiking boots?   \n",
       "\n",
       "                     inputs.line_number inputs.chat_history  \\\n",
       "outputs.line_number                                           \n",
       "4                                     4                  []   \n",
       "1                                     1                  []   \n",
       "0                                     0                  []   \n",
       "2                                     2                  []   \n",
       "3                                     3                  []   \n",
       "\n",
       "                                                        outputs.answer  \\\n",
       "outputs.line_number                                                      \n",
       "4                    Hey Jane Doe! For hiking gear, I recommend the...   \n",
       "1                    Hey John! 🧗‍♂️ Absolutely, we have some awesom...   \n",
       "0                    Hey Sarah Lee! 🌟 Let me tell you about our awe...   \n",
       "2                    Hey Michael! 🌟 We've got a fantastic selection...   \n",
       "3                    Hey Emily! 👋 Absolutely, we have some awesome ...   \n",
       "\n",
       "                                                       outputs.context  \n",
       "outputs.line_number                                                     \n",
       "4                    [{'id': '10', 'title': 'TrailBlaze Hiking Pant...  \n",
       "1                    [{'id': '9', 'title': 'SummitClimber Backpack'...  \n",
       "0                    [{'id': '17', 'title': 'RainGuard Hiking Jacke...  \n",
       "2                    [{'id': '15', 'title': 'SkyView 2-Person Tent'...  \n",
       "3                    [{'id': '4', 'title': 'TrekReady Hiking Boots'...  "
      ]
     },
     "execution_count": 15,
     "metadata": {},
     "output_type": "execute_result"
    }
   ],
   "source": [
    "details = pf_azure_client.get_details(base_run)\n",
    "details.head(10)"
   ]
  },
  {
   "cell_type": "markdown",
   "metadata": {},
   "source": [
    "# Cloud Eval run on Json Data"
   ]
  },
  {
   "cell_type": "code",
   "execution_count": 16,
   "metadata": {},
   "outputs": [
    {
     "name": "stdout",
     "output_type": "stream",
     "text": [
      "2024_01_11_212319chat_eval_run\n"
     ]
    },
    {
     "name": "stderr",
     "output_type": "stream",
     "text": [
      "[2024-01-11 21:27:43,226][promptflow][WARNING] - You're using automatic runtime, if it's first time you're using it, it may take a while to build runtime and request may fail with timeout error. Wait a while and resubmit same flow can successfully start the run.\n",
      "\u001b[32mUploading multi_flow (0.03 MBs):   0%|          | 0/31979 [00:00<?, ?it/s][2024-01-11 21:27:45,295][promptflow.azure._restclient.flow_service_caller][INFO] - Start polling until session creation is completed...\n",
      "\u001b[32mUploading multi_flow (0.03 MBs): 100%|██████████| 31979/31979 [00:01<00:00, 21804.60it/s]\n",
      "\u001b[39m\n",
      "\n"
     ]
    }
   ],
   "source": [
    "eval_flow = \"multi_flow/\"\n",
    "data = \"../data/salestestdata.jsonl\"\n",
    "run_name = timestamp+\"chat_eval_run\"\n",
    "print(run_name)\n",
    "\n",
    "eval_run_variant = pf_azure_client.run(\n",
    "    flow=eval_flow,\n",
    "    data=data,  # path to the data file\n",
    "    run=base_run,  # use run as the variant\n",
    "    column_mapping={\n",
    "        # reference data\n",
    "        \"customerId\": \"${data.customerId}\",\n",
    "        \"question\": \"${data.question}\",\n",
    "        \"context\": \"${run.outputs.context}\",\n",
    "        # reference the run's output\n",
    "        \"answer\": \"${run.outputs.answer}\",\n",
    "    },\n",
    "    runtime=runtime,\n",
    "    display_name=run_name,\n",
    "    name=run_name\n",
    ")"
   ]
  },
  {
   "cell_type": "code",
   "execution_count": null,
   "metadata": {},
   "outputs": [],
   "source": [
    "pf_azure_client.stream(eval_run_variant)"
   ]
  },
  {
   "cell_type": "code",
   "execution_count": null,
   "metadata": {},
   "outputs": [],
   "source": [
    "details = pf_azure_client.get_details(eval_run_variant)\n",
    "details.head(10)"
   ]
  },
  {
   "cell_type": "code",
   "execution_count": null,
   "metadata": {},
   "outputs": [],
   "source": [
    "\n",
    "metrics = pf_azure_client.get_metrics(eval_run_variant)\n",
    "print(json.dumps(metrics, indent=4))"
   ]
  },
  {
   "cell_type": "code",
   "execution_count": null,
   "metadata": {},
   "outputs": [],
   "source": [
    "pf_azure_client.visualize([base_run, eval_run_variant])"
   ]
  },
  {
   "cell_type": "code",
   "execution_count": null,
   "metadata": {},
   "outputs": [],
   "source": []
  }
 ],
 "metadata": {
  "kernelspec": {
   "display_name": ".venv",
   "language": "python",
   "name": "python3"
  },
  "language_info": {
   "codemirror_mode": {
    "name": "ipython",
    "version": 3
   },
   "file_extension": ".py",
   "mimetype": "text/x-python",
   "name": "python",
   "nbconvert_exporter": "python",
   "pygments_lexer": "ipython3",
   "version": "3.11.7"
  }
 },
 "nbformat": 4,
 "nbformat_minor": 2
}
