{
 "cells": [
  {
   "cell_type": "code",
   "execution_count": 1,
   "metadata": {},
   "outputs": [],
   "source": [
    "import os\n",
    "from promptflow import PFClient\n",
    "from promptflow.entities import (\n",
    "    AzureOpenAIConnection,\n",
    "    CustomConnection,\n",
    "    CognitiveSearchConnection,\n",
    ")\n",
    "from dotenv import load_dotenv\n",
    "from pathlib import Path\n",
    "load_dotenv(Path(\"../local.env\"))\n",
    "\n",
    "pf = PFClient()"
   ]
  },
  {
   "cell_type": "code",
   "execution_count": 2,
   "metadata": {},
   "outputs": [],
   "source": [
    "connection_name = \"aoai-connection\"\n",
    "AOAI_KEY= os.environ[\"CONTOSO_AI_SERVICES_KEY\"]\n",
    "AOAI_ENDPOINT= os.environ[\"CONTOSO_AI_SERVICES_ENDPOINT\"]"
   ]
  },
  {
   "cell_type": "code",
   "execution_count": 3,
   "metadata": {},
   "outputs": [
    {
     "data": {
      "text/plain": [
       "'https://contoso-chat-ai-aiservices784635654.openai.azure.com/'"
      ]
     },
     "execution_count": 3,
     "metadata": {},
     "output_type": "execute_result"
    }
   ],
   "source": [
    "AOAI_ENDPOINT"
   ]
  },
  {
   "cell_type": "code",
   "execution_count": 4,
   "metadata": {},
   "outputs": [
    {
     "name": "stdout",
     "output_type": "stream",
     "text": [
      "Creating connection aoai-connection...\n",
      "name: aoai-connection\n",
      "module: promptflow.connections\n",
      "created_date: '2024-01-11T21:02:17.150261'\n",
      "last_modified_date: '2024-01-11T21:02:17.150261'\n",
      "type: azure_open_ai\n",
      "api_key: '******'\n",
      "api_base: https://contoso-chat-ai-aiservices784635654.openai.azure.com/\n",
      "api_type: azure\n",
      "api_version: 2023-07-01-preview\n",
      "\n"
     ]
    }
   ],
   "source": [
    "# Create local Azure OpenAI Connection\n",
    "connection_name = \"aoai-connection\"\n",
    "AOAI_KEY= os.environ[\"CONTOSO_AI_SERVICES_KEY\"]\n",
    "AOAI_ENDPOINT= os.environ[\"CONTOSO_AI_SERVICES_ENDPOINT\"]\n",
    "connection = AzureOpenAIConnection(\n",
    "    name=connection_name,\n",
    "    api_key=AOAI_KEY,\n",
    "    api_base=AOAI_ENDPOINT,\n",
    "    api_type=\"azure\",\n",
    "    api_version=\"2023-07-01-preview\",\n",
    ")\n",
    "\n",
    "print(f\"Creating connection {connection.name}...\")\n",
    "result = pf.connections.create_or_update(connection)\n",
    "print(result)\n"
   ]
  },
  {
   "cell_type": "code",
   "execution_count": 5,
   "metadata": {},
   "outputs": [
    {
     "name": "stdout",
     "output_type": "stream",
     "text": [
      "Creating connection contoso-cosmos...\n",
      "name: contoso-cosmos\n",
      "module: promptflow.connections\n",
      "created_date: '2024-01-11T21:02:17.353321'\n",
      "last_modified_date: '2024-01-11T21:02:17.353321'\n",
      "type: custom\n",
      "configs:\n",
      "  endpoint: https://contoso-chat-cosmosdbdga.documents.azure.com:443/\n",
      "  databaseId: contoso-outdoor\n",
      "  containerId: customers\n",
      "secrets:\n",
      "  key: '******'\n",
      "\n"
     ]
    }
   ],
   "source": [
    "# Create the local contoso-cosmos connection\n",
    "COSMOS_ENDPOINT = os.environ[\"COSMOS_ENDPOINT\"]\n",
    "COSMOS_KEY = os.environ[\"COSMOS_KEY\"]\n",
    "connection = CustomConnection(\n",
    "    name=\"contoso-cosmos\",\n",
    "    configs={\n",
    "        \"endpoint\": COSMOS_ENDPOINT,\n",
    "        \"databaseId\": \"contoso-outdoor\",\n",
    "        \"containerId\": \"customers\",\n",
    "    },\n",
    "    secrets={\"key\": COSMOS_KEY},\n",
    ")\n",
    "\n",
    "print(f\"Creating connection {connection.name}...\")\n",
    "result = pf.connections.create_or_update(connection)\n",
    "print(result)\n"
   ]
  },
  {
   "cell_type": "code",
   "execution_count": 6,
   "metadata": {},
   "outputs": [
    {
     "name": "stdout",
     "output_type": "stream",
     "text": [
      "Creating connection contoso-search...\n",
      "name: contoso-search\n",
      "module: promptflow.connections\n",
      "created_date: '2024-01-11T21:02:17.420161'\n",
      "last_modified_date: '2024-01-11T21:02:17.420161'\n",
      "type: cognitive_search\n",
      "api_key: '******'\n",
      "api_base: https://contoso-chat-aisearchadfga.search.windows.net\n",
      "api_version: 2023-07-01-preview\n",
      "\n"
     ]
    }
   ],
   "source": [
    "# Create the local contoso-search connection\n",
    "SEARCH_ENDPOINT = os.environ[\"CONTOSO_SEARCH_SERVICE\"]\n",
    "SEARCH_KEY = os.environ[\"CONTOSO_SEARCH_KEY\"]\n",
    "connection = CognitiveSearchConnection(\n",
    "    name=\"contoso-search\",\n",
    "    api_key=SEARCH_KEY,\n",
    "    api_base=SEARCH_ENDPOINT,\n",
    "    api_version=\"2023-07-01-preview\",\n",
    ")\n",
    "\n",
    "print(f\"Creating connection {connection.name}...\")\n",
    "result = pf.connections.create_or_update(connection)\n",
    "print(result)\n"
   ]
  }
 ],
 "metadata": {
  "kernelspec": {
   "display_name": "pfmain",
   "language": "python",
   "name": "python3"
  },
  "language_info": {
   "codemirror_mode": {
    "name": "ipython",
    "version": 3
   },
   "file_extension": ".py",
   "mimetype": "text/x-python",
   "name": "python",
   "nbconvert_exporter": "python",
   "pygments_lexer": "ipython3",
   "version": "3.11.7"
  }
 },
 "nbformat": 4,
 "nbformat_minor": 2
}
